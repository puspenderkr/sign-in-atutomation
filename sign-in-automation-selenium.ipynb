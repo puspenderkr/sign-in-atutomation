{
 "cells": [
  {
   "cell_type": "code",
   "execution_count": 20,
   "id": "3fa14cdd",
   "metadata": {},
   "outputs": [
    {
     "name": "stdout",
     "output_type": "stream",
     "text": [
      "Login successful!\n"
     ]
    }
   ],
   "source": [
    "import time as tm\n",
    "from selenium import webdriver\n",
    "from selenium.webdriver.common.by import By\n",
    "from selenium.webdriver.chrome.service import Service as ChromeService\n",
    "from selenium.webdriver.common.keys import Keys\n",
    "from selenium.webdriver.support.ui import WebDriverWait\n",
    "from selenium.webdriver.support import expected_conditions as EC\n",
    "from bs4 import BeautifulSoup"
   ]
  },
  {
   "cell_type": "code",
   "execution_count": 22,
   "id": "f57c6314",
   "metadata": {},
   "outputs": [],
   "source": [
    "def main():\n",
    "    # Path to ChromeDriver executable\n",
    "    path = r\"C:\\Users\\derav\\Downloads\\chromedriver-win64\\chromedriver\"\n",
    "    \n",
    "    # Configure ChromeService and ChromeOptions\n",
    "    service = ChromeService(executable_path=path)\n",
    "    options = webdriver.ChromeOptions()\n",
    "    \n",
    "    # Specify the URL to the web application\n",
    "    url = \"https://www.saucedemo.com/\"\n",
    "    \n",
    "    \n",
    "    # Initialize the WebDriver\n",
    "    driver = webdriver.Chrome(service=service, options=options)\n",
    "\n",
    "    try:\n",
    "        # Navigate to the URL\n",
    "        driver.get(url)\n",
    "\n",
    "        # Wait for the page to fully load\n",
    "        WebDriverWait(driver, 10).until(EC.presence_of_element_located((By.TAG_NAME, \"body\")))\n",
    "        \n",
    "        # Locate the username and password input fields and the login button\n",
    "        username_field = driver.find_element(By.NAME, \"user-name\")\n",
    "        password_field = driver.find_element(By.NAME, \"password\")\n",
    "        login_button = driver.find_element(By.NAME, \"login-button\")\n",
    "        \n",
    "        # Input your credentials\n",
    "        username_field.send_keys(\"standard_user\")\n",
    "        password_field.send_keys(\"secret_sauce\")\n",
    "\n",
    "        # Click the login button\n",
    "        try:\n",
    "            login_button.click()\n",
    "        except:\n",
    "            print(\"Login button not clickable\")\n",
    "\n",
    "        # Wait for the login to complete\n",
    "        WebDriverWait(driver, 10).until(EC.presence_of_element_located((By.ID, \"inventory_container\")))\n",
    "\n",
    "        # Check if the user is redirected to the dashboard page\n",
    "        if \"inventory_container\" in driver.page_source:\n",
    "            print(\"Login successful!\")\n",
    "        else:\n",
    "            print(\"Login failed.\")\n",
    "\n",
    "    except Exception as e:\n",
    "        print(f\"An error occurred: {str(e)}\")\n",
    "    finally:\n",
    "        # Close the WebDriver\n",
    "        driver.quit()\n"
   ]
  },
  {
   "cell_type": "code",
   "execution_count": 23,
   "id": "183bf76e",
   "metadata": {},
   "outputs": [
    {
     "name": "stdout",
     "output_type": "stream",
     "text": [
      "Login successful!\n"
     ]
    }
   ],
   "source": [
    "main()"
   ]
  },
  {
   "cell_type": "code",
   "execution_count": null,
   "id": "45cd40a1",
   "metadata": {},
   "outputs": [],
   "source": []
  }
 ],
 "metadata": {
  "kernelspec": {
   "display_name": "Python 3 (ipykernel)",
   "language": "python",
   "name": "python3"
  },
  "language_info": {
   "codemirror_mode": {
    "name": "ipython",
    "version": 3
   },
   "file_extension": ".py",
   "mimetype": "text/x-python",
   "name": "python",
   "nbconvert_exporter": "python",
   "pygments_lexer": "ipython3",
   "version": "3.9.13"
  }
 },
 "nbformat": 4,
 "nbformat_minor": 5
}
